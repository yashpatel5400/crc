{
 "cells": [
  {
   "cell_type": "code",
   "execution_count": 1,
   "metadata": {},
   "outputs": [],
   "source": [
    "import time\n",
    "import torch\n",
    "import sbibm\n",
    "import numpy as np\n",
    "import pandas as pd\n",
    "import matplotlib.pyplot as plt\n",
    "import seaborn as sns\n",
    "import pickle\n",
    "import os\n",
    "import io\n",
    "import scipy\n",
    "\n",
    "from pydmd import DMDc\n",
    "np.set_printoptions(suppress=True)"
   ]
  },
  {
   "cell_type": "code",
   "execution_count": 2,
   "metadata": {},
   "outputs": [],
   "source": [
    "def create_system_without_B():\n",
    "    n = 5  # dimension snapshots\n",
    "    m = 15  # number snapshots\n",
    "    A = scipy.linalg.helmert(n, True)\n",
    "    B = np.random.rand(n, n) - .5\n",
    "    x0 = np.array([0.25] * n)\n",
    "    u = np.random.rand(n, m - 1) - .5\n",
    "    snapshots = [x0]\n",
    "    for i in range(m - 1):\n",
    "        snapshots.append(A.dot(snapshots[i]) + B.dot(u[:, i]))\n",
    "    snapshots = np.array(snapshots).T\n",
    "    return A, B, {'snapshots': snapshots, 'u': u, 'B': B, 'A': A}"
   ]
  },
  {
   "cell_type": "code",
   "execution_count": 3,
   "metadata": {},
   "outputs": [],
   "source": [
    "def test_reconstruct_b_unknown():\n",
    "    A, B, system = create_system_without_B()\n",
    "    dmdc = DMDc(svd_rank=-1, opt=True)\n",
    "    dmdc.fit(system['snapshots'], system['u'])\n",
    "    A_hat, B_hat, _ = dmdc.reconstructed_data()\n",
    "    return (A, B), (A_hat, B_hat)"
   ]
  },
  {
   "cell_type": "code",
   "execution_count": 4,
   "metadata": {},
   "outputs": [],
   "source": [
    "(A, B), (A_hat, B_hat) = test_reconstruct_b_unknown()"
   ]
  },
  {
   "cell_type": "code",
   "execution_count": 5,
   "metadata": {},
   "outputs": [
    {
     "name": "stdout",
     "output_type": "stream",
     "text": [
      "A = [[ 0.4472136   0.4472136   0.4472136   0.4472136   0.4472136 ]\n",
      " [ 0.70710678 -0.70710678  0.          0.          0.        ]\n",
      " [ 0.40824829  0.40824829 -0.81649658  0.          0.        ]\n",
      " [ 0.28867513  0.28867513  0.28867513 -0.8660254   0.        ]\n",
      " [ 0.2236068   0.2236068   0.2236068   0.2236068  -0.89442719]]\n",
      "A_hat = [[ 0.4472136   0.4472136   0.4472136   0.4472136   0.4472136 ]\n",
      " [ 0.70710678 -0.70710678  0.          0.          0.        ]\n",
      " [ 0.40824829  0.40824829 -0.81649658 -0.         -0.        ]\n",
      " [ 0.28867513  0.28867513  0.28867513 -0.8660254   0.        ]\n",
      " [ 0.2236068   0.2236068   0.2236068   0.2236068  -0.89442719]]\n"
     ]
    }
   ],
   "source": [
    "print(f\"A = {A}\")\n",
    "print(f\"A_hat = {np.real(A_hat)}\")"
   ]
  },
  {
   "cell_type": "code",
   "execution_count": 6,
   "metadata": {},
   "outputs": [
    {
     "name": "stdout",
     "output_type": "stream",
     "text": [
      "B = [[-0.3441854  -0.3894406   0.23998832  0.25990752  0.25210034]\n",
      " [-0.08082887 -0.37651072  0.32664513 -0.09309935  0.14101884]\n",
      " [ 0.04957299  0.3798759   0.32746753 -0.40025426  0.00704828]\n",
      " [-0.38318625  0.26721857  0.48625101  0.49928778  0.38172367]\n",
      " [ 0.33538022  0.20711934 -0.26449538  0.39883571 -0.45051171]]\n",
      "B_hat = [[-0.3441854  -0.3894406   0.23998832  0.25990752  0.25210034]\n",
      " [-0.08082887 -0.37651072  0.32664513 -0.09309935  0.14101884]\n",
      " [ 0.04957299  0.3798759   0.32746753 -0.40025426  0.00704828]\n",
      " [-0.38318625  0.26721857  0.48625101  0.49928778  0.38172367]\n",
      " [ 0.33538022  0.20711934 -0.26449538  0.39883571 -0.45051171]]\n"
     ]
    }
   ],
   "source": [
    "print(f\"B = {B}\")\n",
    "print(f\"B_hat = {B_hat}\")"
   ]
  },
  {
   "cell_type": "code",
   "execution_count": null,
   "metadata": {},
   "outputs": [],
   "source": []
  }
 ],
 "metadata": {
  "kernelspec": {
   "display_name": "chig",
   "language": "python",
   "name": "python3"
  },
  "language_info": {
   "codemirror_mode": {
    "name": "ipython",
    "version": 3
   },
   "file_extension": ".py",
   "mimetype": "text/x-python",
   "name": "python",
   "nbconvert_exporter": "python",
   "pygments_lexer": "ipython3",
   "version": "3.8.16"
  },
  "orig_nbformat": 4
 },
 "nbformat": 4,
 "nbformat_minor": 2
}
