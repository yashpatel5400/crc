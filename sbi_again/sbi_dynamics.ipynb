{
 "cells": [
  {
   "cell_type": "code",
   "execution_count": 1,
   "metadata": {},
   "outputs": [],
   "source": [
    "import time\n",
    "import torch\n",
    "import sbibm\n",
    "import numpy as np\n",
    "import pandas as pd\n",
    "import matplotlib.pyplot as plt\n",
    "import seaborn as sns\n",
    "import pickle\n",
    "import os\n",
    "import io\n",
    "\n",
    "from pydmd import DMDc\n",
    "np.set_printoptions(suppress=True)"
   ]
  },
  {
   "cell_type": "code",
   "execution_count": 2,
   "metadata": {},
   "outputs": [],
   "source": [
    "task_name = \"two_moons\"\n",
    "device = \"cpu\"\n",
    "task = sbibm.get_task(task_name)\n",
    "prior = task.get_prior_dist()\n",
    "simulator = task.get_simulator()"
   ]
  },
  {
   "cell_type": "code",
   "execution_count": 3,
   "metadata": {},
   "outputs": [
    {
     "data": {
      "text/plain": [
       "Flow(\n",
       "  (_transform): CompositeTransform(\n",
       "    (_transforms): ModuleList(\n",
       "      (0): PiecewiseRationalQuadraticCouplingTransform(\n",
       "        (transform_net): ResidualNet(\n",
       "          (initial_layer): Linear(in_features=3, out_features=50, bias=True)\n",
       "          (blocks): ModuleList(\n",
       "            (0-1): 2 x ResidualBlock(\n",
       "              (context_layer): Linear(in_features=2, out_features=50, bias=True)\n",
       "              (linear_layers): ModuleList(\n",
       "                (0-1): 2 x Linear(in_features=50, out_features=50, bias=True)\n",
       "              )\n",
       "              (dropout): Dropout(p=0.0, inplace=False)\n",
       "            )\n",
       "          )\n",
       "          (final_layer): Linear(in_features=50, out_features=29, bias=True)\n",
       "        )\n",
       "      )\n",
       "      (1): LULinear()\n",
       "      (2): PiecewiseRationalQuadraticCouplingTransform(\n",
       "        (transform_net): ResidualNet(\n",
       "          (initial_layer): Linear(in_features=3, out_features=50, bias=True)\n",
       "          (blocks): ModuleList(\n",
       "            (0-1): 2 x ResidualBlock(\n",
       "              (context_layer): Linear(in_features=2, out_features=50, bias=True)\n",
       "              (linear_layers): ModuleList(\n",
       "                (0-1): 2 x Linear(in_features=50, out_features=50, bias=True)\n",
       "              )\n",
       "              (dropout): Dropout(p=0.0, inplace=False)\n",
       "            )\n",
       "          )\n",
       "          (final_layer): Linear(in_features=50, out_features=29, bias=True)\n",
       "        )\n",
       "      )\n",
       "      (3): LULinear()\n",
       "      (4): PiecewiseRationalQuadraticCouplingTransform(\n",
       "        (transform_net): ResidualNet(\n",
       "          (initial_layer): Linear(in_features=3, out_features=50, bias=True)\n",
       "          (blocks): ModuleList(\n",
       "            (0-1): 2 x ResidualBlock(\n",
       "              (context_layer): Linear(in_features=2, out_features=50, bias=True)\n",
       "              (linear_layers): ModuleList(\n",
       "                (0-1): 2 x Linear(in_features=50, out_features=50, bias=True)\n",
       "              )\n",
       "              (dropout): Dropout(p=0.0, inplace=False)\n",
       "            )\n",
       "          )\n",
       "          (final_layer): Linear(in_features=50, out_features=29, bias=True)\n",
       "        )\n",
       "      )\n",
       "      (5): LULinear()\n",
       "      (6): PiecewiseRationalQuadraticCouplingTransform(\n",
       "        (transform_net): ResidualNet(\n",
       "          (initial_layer): Linear(in_features=3, out_features=50, bias=True)\n",
       "          (blocks): ModuleList(\n",
       "            (0-1): 2 x ResidualBlock(\n",
       "              (context_layer): Linear(in_features=2, out_features=50, bias=True)\n",
       "              (linear_layers): ModuleList(\n",
       "                (0-1): 2 x Linear(in_features=50, out_features=50, bias=True)\n",
       "              )\n",
       "              (dropout): Dropout(p=0.0, inplace=False)\n",
       "            )\n",
       "          )\n",
       "          (final_layer): Linear(in_features=50, out_features=29, bias=True)\n",
       "        )\n",
       "      )\n",
       "      (7): LULinear()\n",
       "      (8): PiecewiseRationalQuadraticCouplingTransform(\n",
       "        (transform_net): ResidualNet(\n",
       "          (initial_layer): Linear(in_features=3, out_features=50, bias=True)\n",
       "          (blocks): ModuleList(\n",
       "            (0-1): 2 x ResidualBlock(\n",
       "              (context_layer): Linear(in_features=2, out_features=50, bias=True)\n",
       "              (linear_layers): ModuleList(\n",
       "                (0-1): 2 x Linear(in_features=50, out_features=50, bias=True)\n",
       "              )\n",
       "              (dropout): Dropout(p=0.0, inplace=False)\n",
       "            )\n",
       "          )\n",
       "          (final_layer): Linear(in_features=50, out_features=29, bias=True)\n",
       "        )\n",
       "      )\n",
       "      (9): LULinear()\n",
       "    )\n",
       "  )\n",
       "  (_distribution): StandardNormal()\n",
       "  (_embedding_net): Identity()\n",
       ")"
      ]
     },
     "execution_count": 3,
     "metadata": {},
     "output_type": "execute_result"
    }
   ],
   "source": [
    "cached_fn = os.path.join(\"trained\", f\"{task_name}.nf\")\n",
    "with open(cached_fn, \"rb\") as f:\n",
    "    encoder = pickle.load(f)\n",
    "encoder.to(device)"
   ]
  },
  {
   "cell_type": "code",
   "execution_count": 41,
   "metadata": {},
   "outputs": [],
   "source": [
    "mb_size = 10\n",
    "test_theta = prior.sample((mb_size,))\n",
    "test_x = simulator(test_theta)\n",
    "As = np.hstack([test_theta, test_theta, test_theta, test_theta, test_theta])[:,:9].reshape((-1, 3, 3)) # n x n\n",
    "Bs = np.hstack([test_theta, test_theta])[:,:3].reshape((-1, 3, 1)) # n x u"
   ]
  },
  {
   "cell_type": "code",
   "execution_count": 42,
   "metadata": {},
   "outputs": [],
   "source": [
    "# m: trajectory length\n",
    "def create_system_snapshots(As, Bs, m = 25):\n",
    "    n = As.shape[-1]\n",
    "    l = Bs.shape[-1]\n",
    "\n",
    "    x0 = np.random.random((n, 1))\n",
    "    u = np.random.rand(l, m - 1) - .5\n",
    "\n",
    "    x0 = np.tile(x0, reps=(As.shape[0],1,1))\n",
    "    u  = np.tile(u,  reps=(Bs.shape[0],1,1))\n",
    "\n",
    "    snapshots = [x0]\n",
    "\n",
    "    for i in range(m - 1):\n",
    "        snapshots.append(As @ snapshots[i] + Bs @ u[:, :, i:i+1])\n",
    "    snapshots = np.array(snapshots).T\n",
    "    return {'snapshots': snapshots, 'u': u, 'B': Bs, 'A': As}"
   ]
  },
  {
   "cell_type": "code",
   "execution_count": 43,
   "metadata": {},
   "outputs": [],
   "source": [
    "system = create_system_snapshots(As, Bs)"
   ]
  },
  {
   "cell_type": "code",
   "execution_count": 44,
   "metadata": {},
   "outputs": [
    {
     "name": "stdout",
     "output_type": "stream",
     "text": [
      "(1, 3, 10, 25)\n",
      "(10, 1, 24)\n"
     ]
    }
   ],
   "source": [
    "print(system['snapshots'].shape)\n",
    "print(system['u'].shape)"
   ]
  },
  {
   "cell_type": "code",
   "execution_count": 45,
   "metadata": {},
   "outputs": [
    {
     "name": "stderr",
     "output_type": "stream",
     "text": [
      "/home/yppatel/anaconda3/envs/chig/lib/python3.8/site-packages/pydmd/snapshots.py:72: UserWarning: Input data condition number 193412210.13076463. Consider preprocessing data, passing in augmented data\n",
      "matrix, or regularization methods.\n",
      "  warnings.warn(\n",
      "/home/yppatel/anaconda3/envs/chig/lib/python3.8/site-packages/pydmd/snapshots.py:72: UserWarning: Input data condition number 10529503169.818735. Consider preprocessing data, passing in augmented data\n",
      "matrix, or regularization methods.\n",
      "  warnings.warn(\n",
      "/home/yppatel/anaconda3/envs/chig/lib/python3.8/site-packages/pydmd/snapshots.py:72: UserWarning: Input data condition number 15796234407.15471. Consider preprocessing data, passing in augmented data\n",
      "matrix, or regularization methods.\n",
      "  warnings.warn(\n",
      "/home/yppatel/anaconda3/envs/chig/lib/python3.8/site-packages/pydmd/snapshots.py:72: UserWarning: Input data condition number 2161225.6280447026. Consider preprocessing data, passing in augmented data\n",
      "matrix, or regularization methods.\n",
      "  warnings.warn(\n"
     ]
    }
   ],
   "source": [
    "A_hats, B_hats = [], []\n",
    "for i in range(mb_size):\n",
    "    dmdc = DMDc(svd_rank=-1, opt=True)\n",
    "    dmdc.fit(system['snapshots'][:,:,i,:], system['u'][i])\n",
    "    A_hat, B_hat, _ = dmdc.reconstructed_data()\n",
    "    A_hats.append(A_hat)\n",
    "    B_hats.append(B_hat)"
   ]
  },
  {
   "cell_type": "code",
   "execution_count": 47,
   "metadata": {},
   "outputs": [
    {
     "name": "stdout",
     "output_type": "stream",
     "text": [
      "A = [[ 0.75714064 -0.73988426  0.75714064]\n",
      " [-0.73988426  0.75714064 -0.73988426]\n",
      " [ 0.75714064 -0.73988426  0.75714064]]\n",
      "A_hat = [[ 0.75714065 -0.73988423  0.75714065]\n",
      " [-0.73988427  0.75714062 -0.73988427]\n",
      " [ 0.75714065 -0.73988423  0.75714065]]\n",
      "------------------------\n",
      "B = [[ 0.75714064]\n",
      " [-0.73988426]\n",
      " [ 0.75714064]]\n",
      "B_hat = [[ 0.75714064]\n",
      " [-0.73988426]\n",
      " [ 0.75714064]]\n"
     ]
    }
   ],
   "source": [
    "mb_idx = 3\n",
    "\n",
    "print(f\"A = {As[mb_idx]}\")\n",
    "print(f\"A_hat = {np.real(A_hats[mb_idx])}\")\n",
    "print(\"------------------------\")\n",
    "print(f\"B = {Bs[mb_idx]}\")\n",
    "print(f\"B_hat = {np.real(B_hats[mb_idx])}\")"
   ]
  },
  {
   "cell_type": "code",
   "execution_count": 49,
   "metadata": {},
   "outputs": [],
   "source": [
    "# done: 1. generate C\n",
    "# done: 2. learn generative model for C^ (seems like it'll be identical since we can just consider C to be a reshaped vector)\n",
    "# done: 3. simulate trajectories w/ C/C_hat (sort of separate, but can do concurrently)\n",
    "# done: 4. recover C^ from trajetories \n",
    "# 5. learn optimal controller for C_hat"
   ]
  },
  {
   "cell_type": "code",
   "execution_count": null,
   "metadata": {},
   "outputs": [],
   "source": []
  }
 ],
 "metadata": {
  "kernelspec": {
   "display_name": "chig",
   "language": "python",
   "name": "python3"
  },
  "language_info": {
   "codemirror_mode": {
    "name": "ipython",
    "version": 3
   },
   "file_extension": ".py",
   "mimetype": "text/x-python",
   "name": "python",
   "nbconvert_exporter": "python",
   "pygments_lexer": "ipython3",
   "version": "3.8.16"
  },
  "orig_nbformat": 4
 },
 "nbformat": 4,
 "nbformat_minor": 2
}
