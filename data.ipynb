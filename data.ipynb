{
 "cells": [
  {
   "cell_type": "code",
   "execution_count": 112,
   "metadata": {},
   "outputs": [],
   "source": [
    "import argparse\n",
    "import cvxpy as cp\n",
    "import os\n",
    "import pickle\n",
    "import matplotlib.pyplot as plt\n",
    "import numpy as np\n",
    "import torch\n",
    "import torch.nn as nn\n",
    "import torch.nn.functional as F\n",
    "import seaborn as sns"
   ]
  },
  {
   "cell_type": "code",
   "execution_count": 113,
   "metadata": {},
   "outputs": [],
   "source": [
    "def get_rand_mean_sigma(d):\n",
    "    mu        = np.random.rand(d)\n",
    "    sigma_tmp = np.random.rand(d, d)\n",
    "    sigma     = np.dot(sigma_tmp, sigma_tmp.transpose())\n",
    "    return mu, sigma"
   ]
  },
  {
   "cell_type": "code",
   "execution_count": 114,
   "metadata": {},
   "outputs": [],
   "source": [
    "num_samples = 1_000\n",
    "batch_size  = 10"
   ]
  },
  {
   "cell_type": "code",
   "execution_count": 115,
   "metadata": {},
   "outputs": [],
   "source": [
    "mu_G, sigma_G = get_rand_mean_sigma(5)\n",
    "mu_L, sigma_L = get_rand_mean_sigma(5)\n",
    "mu_N, sigma_N = get_rand_mean_sigma(5)\n",
    "\n",
    "G = np.random.multivariate_normal(mu_G, sigma_G, num_samples)\n",
    "L = np.random.multivariate_normal(mu_L, sigma_L, num_samples)\n",
    "N = np.random.multivariate_normal(mu_N, sigma_N, num_samples)\n",
    "\n",
    "# constants to match form of https://www.sciencedirect.com/science/article/pii/S1877705814011771?ref=pdf_download&fr=RR-2&rr=875e3f6f1afa2b0b\n",
    "# but not strictly necessary for dynamics generation\n",
    "g       = 1\n",
    "U_0     = 1\n",
    "theta_0 = 0"
   ]
  },
  {
   "cell_type": "code",
   "execution_count": 116,
   "metadata": {},
   "outputs": [],
   "source": [
    "final_row = np.ones((G.shape[0], 4))\n",
    "final_row[:,0] = final_row[:,3] = 0\n",
    "final_row[:,2] = np.tan(theta_0)\n",
    "\n",
    "xs = np.hstack([G, L, N])\n",
    "As = np.transpose(np.array([\n",
    "    np.hstack([G[:,:3], np.ones((G.shape[0],1)) * (g * np.cos(theta_0))]) / U_0,\n",
    "    np.hstack([L[:,:3], np.zeros((L.shape[0],1))]),\n",
    "    np.hstack([N[:,:3], np.zeros((N.shape[0],1))]),\n",
    "    final_row,\n",
    "]), (1,0,2))\n",
    "\n",
    "Bs = np.transpose(np.array([\n",
    "    G[:,3:] / U_0,\n",
    "    L[:,3:],\n",
    "    N[:,3:],\n",
    "    np.zeros((G.shape[0], 2)),\n",
    "]), (1,0,2))\n",
    "\n",
    "xs = torch.from_numpy(xs).to(torch.float32)\n",
    "As = torch.from_numpy(As).to(torch.float32)\n",
    "Bs = torch.from_numpy(Bs).to(torch.float32)"
   ]
  },
  {
   "cell_type": "code",
   "execution_count": 131,
   "metadata": {},
   "outputs": [],
   "source": [
    "class ContextualLQR(nn.Module):\n",
    "    def __init__(self):\n",
    "        super().__init__()\n",
    "        self.fc1 = nn.Linear(15, 64)\n",
    "        self.fc2 = nn.Linear(64, 64)\n",
    "        self.fc3 = nn.Linear(64, 64)\n",
    "        \n",
    "        self.fc_A = nn.Linear(64, 16)\n",
    "        self.fc_B = nn.Linear(64, 8)\n",
    "        \n",
    "        # self.conv_A = nn.Conv2d(1, 1, 3, padding=\"same\")\n",
    "        # self.conv_B = nn.Conv2d(1, 1, 3, padding=\"same\")\n",
    "\n",
    "    def forward(self, x):\n",
    "        x = F.relu(self.fc1(x))\n",
    "        \n",
    "        fc2_x = self.fc2(x)\n",
    "        x     = F.relu(x + fc2_x)\n",
    "\n",
    "        fc3_x = self.fc3(x)\n",
    "        x     = F.relu(x + fc3_x)\n",
    "\n",
    "        # for predictions of A matrix\n",
    "        A = self.fc_A(x).reshape((-1,4,4))\n",
    "        # A    = self.conv_A(fc_A)\n",
    "\n",
    "        # for predictions of B matrix\n",
    "        B = self.fc_B(x).reshape((-1,4,2))\n",
    "        # B    = self.conv_B(fc_B)\n",
    "\n",
    "        return A, B"
   ]
  },
  {
   "cell_type": "code",
   "execution_count": 132,
   "metadata": {},
   "outputs": [],
   "source": [
    "import torch.optim as optim\n",
    "\n",
    "net       = ContextualLQR()\n",
    "criterion = nn.MSELoss()\n",
    "optimizer = optim.Adam(net.parameters())"
   ]
  },
  {
   "cell_type": "code",
   "execution_count": 147,
   "metadata": {},
   "outputs": [
    {
     "name": "stdout",
     "output_type": "stream",
     "text": [
      "[1,   100] loss: 0.9567443961277604\n"
     ]
    }
   ],
   "source": [
    "num_batches = num_samples // batch_size\n",
    "losses = []\n",
    "for epoch in range(50):  # loop over the dataset multiple times\n",
    "    rolling_loss = 0\n",
    "    for i in range(num_batches):\n",
    "        x_batch, A_batch, B_batch = xs[i*batch_size:(i+1)*batch_size], As[i*batch_size:(i+1)*batch_size], Bs[i*batch_size:(i+1)*batch_size]\n",
    "        optimizer.zero_grad()\n",
    "\n",
    "        A_hat_batch, B_hat_batch = net(x_batch)\n",
    "        loss = criterion(A_hat_batch, A_batch) + criterion(B_hat_batch, B_batch)\n",
    "        loss.backward()\n",
    "        optimizer.step()\n",
    "\n",
    "        rolling_loss += loss.item()\n",
    "    losses.append(rolling_loss)\n",
    "    print(f'[{epoch + 1}, {i + 1:5d}] loss: {rolling_loss}')\n",
    "print('Finished Training')"
   ]
  },
  {
   "cell_type": "code",
   "execution_count": null,
   "metadata": {},
   "outputs": [
    {
     "data": {
      "text/plain": [
       "<Axes: >"
      ]
     },
     "execution_count": 137,
     "metadata": {},
     "output_type": "execute_result"
    },
    {
     "data": {
      "image/png": "[encoded data removed]",
      "text/plain": [
       "<Figure size 640x480 with 1 Axes>"
      ]
     },
     "metadata": {},
     "output_type": "display_data"
    }
   ],
   "source": [
    "import seaborn as sns\n",
    "sns.set_theme()\n",
    "sns.lineplot(x=range(10), y=losses, lw=4)"
   ]
  }
 ],
 "metadata": {
  "kernelspec": {
   "display_name": "operator",
   "language": "python",
   "name": "python3"
  },
  "language_info": {
   "codemirror_mode": {
    "name": "ipython",
    "version": 3
   },
   "file_extension": ".py",
   "mimetype": "text/x-python",
   "name": "python",
   "nbconvert_exporter": "python",
   "pygments_lexer": "ipython3",
   "version": "3.11.8"
  }
 },
 "nbformat": 4,
 "nbformat_minor": 2
}
