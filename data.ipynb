{
 "cells": [
  {
   "cell_type": "code",
   "execution_count": 1,
   "metadata": {},
   "outputs": [],
   "source": [
    "import argparse\n",
    "import cvxpy as cp\n",
    "import os\n",
    "import pickle\n",
    "import matplotlib.pyplot as plt\n",
    "import numpy as np\n",
    "import torch\n",
    "import torch.nn as nn\n",
    "import torch.nn.functional as F\n",
    "import seaborn as sns"
   ]
  },
  {
   "cell_type": "code",
   "execution_count": 2,
   "metadata": {},
   "outputs": [],
   "source": [
    "def get_rand_mean_sigma(d):\n",
    "    mu        = np.random.rand(d)\n",
    "    sigma_tmp = np.random.rand(d, d)\n",
    "    sigma     = np.dot(sigma_tmp, sigma_tmp.transpose())\n",
    "    return mu, sigma"
   ]
  },
  {
   "cell_type": "code",
   "execution_count": 3,
   "metadata": {},
   "outputs": [],
   "source": [
    "# distribution parameters need to be fixed for the simulation\n",
    "mu_G, sigma_G = get_rand_mean_sigma(5)\n",
    "mu_L, sigma_L = get_rand_mean_sigma(5)\n",
    "mu_N, sigma_N = get_rand_mean_sigma(5)\n",
    "\n",
    "# constants to match form of https://www.sciencedirect.com/science/article/pii/S1877705814011771?ref=pdf_download&fr=RR-2&rr=875e3f6f1afa2b0b\n",
    "# but not strictly necessary for dynamics generation\n",
    "g       = 1\n",
    "U_0     = 1\n",
    "theta_0 = 0"
   ]
  },
  {
   "cell_type": "code",
   "execution_count": 4,
   "metadata": {},
   "outputs": [],
   "source": [
    "def generate_data(num_samples):\n",
    "    G = np.random.multivariate_normal(mu_G, sigma_G, num_samples)\n",
    "    L = np.random.multivariate_normal(mu_L, sigma_L, num_samples)\n",
    "    N = np.random.multivariate_normal(mu_N, sigma_N, num_samples)\n",
    "    \n",
    "    final_row = np.ones((G.shape[0], 4))\n",
    "    final_row[:,0] = final_row[:,3] = 0\n",
    "    final_row[:,2] = np.tan(theta_0)\n",
    "\n",
    "    xs = np.hstack([G, L, N])\n",
    "    As = np.transpose(np.array([\n",
    "        np.hstack([G[:,:3], np.ones((G.shape[0],1)) * (g * np.cos(theta_0))]) / U_0,\n",
    "        np.hstack([L[:,:3], np.zeros((L.shape[0],1))]),\n",
    "        np.hstack([N[:,:3], np.zeros((N.shape[0],1))]),\n",
    "        final_row,\n",
    "    ]), (1,0,2))\n",
    "\n",
    "    Bs = np.transpose(np.array([\n",
    "        G[:,3:] / U_0,\n",
    "        L[:,3:],\n",
    "        N[:,3:],\n",
    "        np.zeros((G.shape[0], 2)),\n",
    "    ]), (1,0,2))\n",
    "\n",
    "    xs = torch.from_numpy(xs).to(torch.float32)\n",
    "    As = torch.from_numpy(As).to(torch.float32)\n",
    "    Bs = torch.from_numpy(Bs).to(torch.float32)\n",
    "\n",
    "    return xs, (As, Bs)"
   ]
  },
  {
   "cell_type": "code",
   "execution_count": 5,
   "metadata": {},
   "outputs": [],
   "source": [
    "N_train = 800\n",
    "xs_train, (As_train, Bs_train) = generate_data(num_samples=N_train)"
   ]
  },
  {
   "cell_type": "code",
   "execution_count": 6,
   "metadata": {},
   "outputs": [],
   "source": [
    "class ContextualLQR(nn.Module):\n",
    "    def __init__(self):\n",
    "        super().__init__()\n",
    "        self.fc1 = nn.Linear(15, 64)\n",
    "        self.fc2 = nn.Linear(64, 64)\n",
    "        self.fc3 = nn.Linear(64, 64)\n",
    "        \n",
    "        self.fc_A = nn.Linear(64, 16)\n",
    "        self.fc_B = nn.Linear(64, 8)\n",
    "        \n",
    "        # self.conv_A = nn.Conv2d(1, 1, 3, padding=\"same\")\n",
    "        # self.conv_B = nn.Conv2d(1, 1, 3, padding=\"same\")\n",
    "\n",
    "    def forward(self, x):\n",
    "        x = F.relu(self.fc1(x))\n",
    "        \n",
    "        fc2_x = self.fc2(x)\n",
    "        x     = F.relu(x + fc2_x)\n",
    "\n",
    "        fc3_x = self.fc3(x)\n",
    "        x     = F.relu(x + fc3_x)\n",
    "\n",
    "        # for predictions of A matrix\n",
    "        A = self.fc_A(x).reshape((-1,4,4))\n",
    "        # A    = self.conv_A(fc_A)\n",
    "\n",
    "        # for predictions of B matrix\n",
    "        B = self.fc_B(x).reshape((-1,4,2))\n",
    "        # B    = self.conv_B(fc_B)\n",
    "\n",
    "        return A, B"
   ]
  },
  {
   "cell_type": "code",
   "execution_count": 7,
   "metadata": {},
   "outputs": [],
   "source": [
    "import torch.optim as optim\n",
    "\n",
    "net       = ContextualLQR()\n",
    "criterion = nn.MSELoss()\n",
    "optimizer = optim.Adam(net.parameters())"
   ]
  },
  {
   "cell_type": "code",
   "execution_count": 8,
   "metadata": {},
   "outputs": [
    {
     "name": "stdout",
     "output_type": "stream",
     "text": [
      "[1,    80] loss: 84.2715722322464\n",
      "[2,    80] loss: 20.747319042682648\n",
      "[3,    80] loss: 10.27705280482769\n",
      "[4,    80] loss: 5.83931452780962\n",
      "[5,    80] loss: 4.083227468654513\n",
      "[6,    80] loss: 3.206964725628495\n",
      "[7,    80] loss: 2.677699137479067\n",
      "[8,    80] loss: 2.3191924802958965\n",
      "[9,    80] loss: 2.056959195062518\n",
      "[10,    80] loss: 1.8532839734107256\n",
      "[11,    80] loss: 1.6896447157487273\n",
      "[12,    80] loss: 1.5514149880036712\n",
      "[13,    80] loss: 1.4323559291660786\n",
      "[14,    80] loss: 1.3273079553619027\n",
      "[15,    80] loss: 1.2313386127352715\n",
      "[16,    80] loss: 1.1462378157302737\n",
      "[17,    80] loss: 1.069804571568966\n",
      "[18,    80] loss: 0.9994597779586911\n",
      "[19,    80] loss: 0.9289271789602935\n",
      "[20,    80] loss: 0.8671752926893532\n",
      "[21,    80] loss: 0.8132944344542921\n",
      "[22,    80] loss: 0.7669160049408674\n",
      "[23,    80] loss: 0.723790024407208\n",
      "[24,    80] loss: 0.6897692172788084\n",
      "[25,    80] loss: 0.6566226184368134\n",
      "[26,    80] loss: 0.6262220568023622\n",
      "[27,    80] loss: 0.5997364199720323\n",
      "[28,    80] loss: 0.5768275172449648\n",
      "[29,    80] loss: 0.5530848712660372\n",
      "[30,    80] loss: 0.5323413531295955\n",
      "[31,    80] loss: 0.513780468609184\n",
      "[32,    80] loss: 0.4939177823252976\n",
      "[33,    80] loss: 0.4764253837056458\n",
      "[34,    80] loss: 0.46207244927063584\n",
      "[35,    80] loss: 0.4477510857395828\n",
      "[36,    80] loss: 0.4334480366669595\n",
      "[37,    80] loss: 0.4219342751894146\n",
      "[38,    80] loss: 0.41236800141632557\n",
      "[39,    80] loss: 0.40070978458970785\n",
      "[40,    80] loss: 0.38721084757708013\n",
      "[41,    80] loss: 0.3737401459366083\n",
      "[42,    80] loss: 0.3633233199361712\n",
      "[43,    80] loss: 0.3517823389265686\n",
      "[44,    80] loss: 0.33995666075497866\n",
      "[45,    80] loss: 0.3246002320665866\n",
      "[46,    80] loss: 0.3133197233546525\n",
      "[47,    80] loss: 0.3029977751430124\n",
      "[48,    80] loss: 0.2956412525381893\n",
      "[49,    80] loss: 0.28864247631281614\n",
      "[50,    80] loss: 0.27867995179258287\n",
      "Finished Training\n"
     ]
    }
   ],
   "source": [
    "batch_size = 10\n",
    "num_batches = N_train // batch_size\n",
    "losses = []\n",
    "for epoch in range(50):  # loop over the dataset multiple times\n",
    "    rolling_loss = 0\n",
    "    for i in range(num_batches):\n",
    "        x_batch, A_batch, B_batch = xs_train[i*batch_size:(i+1)*batch_size], As_train[i*batch_size:(i+1)*batch_size], Bs_train[i*batch_size:(i+1)*batch_size]\n",
    "        optimizer.zero_grad()\n",
    "\n",
    "        A_hat_batch, B_hat_batch = net(x_batch)\n",
    "        loss = criterion(A_hat_batch, A_batch) + criterion(B_hat_batch, B_batch)\n",
    "        loss.backward()\n",
    "        optimizer.step()\n",
    "\n",
    "        rolling_loss += loss.item()\n",
    "    losses.append(rolling_loss)\n",
    "    print(f'[{epoch + 1}, {i + 1:5d}] loss: {rolling_loss}')\n",
    "print('Finished Training')"
   ]
  },
  {
   "cell_type": "code",
   "execution_count": 9,
   "metadata": {},
   "outputs": [
    {
     "data": {
      "text/plain": [
       "<Axes: >"
      ]
     },
     "execution_count": 9,
     "metadata": {},
     "output_type": "execute_result"
    },
    {
     "data": {
      "image/png": "[encoded data removed]",
      "text/plain": [
       "<Figure size 640x480 with 1 Axes>"
      ]
     },
     "metadata": {},
     "output_type": "display_data"
    }
   ],
   "source": [
    "import seaborn as sns\n",
    "sns.set_theme()\n",
    "sns.lineplot(x=range(len(losses)), y=losses, lw=4)"
   ]
  },
  {
   "cell_type": "code",
   "execution_count": 10,
   "metadata": {},
   "outputs": [],
   "source": [
    "def generate_scores(net, num_samples):\n",
    "    xs, (As, Bs) = generate_data(num_samples=num_samples)\n",
    "    A_hat, B_hat = net(xs)\n",
    "    C = torch.cat([As, Bs], axis=-1).cpu().detach().numpy()\n",
    "    C_hat = torch.cat([A_hat, B_hat], axis=-1).cpu().detach().numpy()\n",
    "    diff = C - C_hat\n",
    "    return (C, C_hat), np.linalg.norm(diff, ord=2, axis=(1,2))"
   ]
  },
  {
   "cell_type": "code",
   "execution_count": 11,
   "metadata": {},
   "outputs": [],
   "source": [
    "N_cal, N_test = 200, 200\n",
    "(cal_C, cal_C_hat),   cal_scores  = generate_scores(net, num_samples=N_cal)\n",
    "(test_C, test_C_hat), test_scores = generate_scores(net, num_samples=N_test)"
   ]
  },
  {
   "cell_type": "code",
   "execution_count": 12,
   "metadata": {},
   "outputs": [
    {
     "name": "stdout",
     "output_type": "stream",
     "text": [
      "Coverage: 0.95\n"
     ]
    }
   ],
   "source": [
    "alpha = 0.05\n",
    "q_hat = np.quantile(cal_scores, q = 1-alpha)\n",
    "coverage = np.sum(test_scores < q_hat) / N_test\n",
    "print(f\"Coverage: {coverage}\")"
   ]
  },
  {
   "cell_type": "code",
   "execution_count": 14,
   "metadata": {},
   "outputs": [],
   "source": [
    "with open(\"experiments/airfoil.pkl\", \"wb\") as f:\n",
    "    pickle.dump({\n",
    "        \"test_C\": test_C, \n",
    "        \"test_C_hat\": test_C_hat,\n",
    "        \"q_hat\": q_hat,\n",
    "    }, f)"
   ]
  },
  {
   "cell_type": "code",
   "execution_count": null,
   "metadata": {},
   "outputs": [],
   "source": []
  }
 ],
 "metadata": {
  "kernelspec": {
   "display_name": "operator",
   "language": "python",
   "name": "python3"
  },
  "language_info": {
   "codemirror_mode": {
    "name": "ipython",
    "version": 3
   },
   "file_extension": ".py",
   "mimetype": "text/x-python",
   "name": "python",
   "nbconvert_exporter": "python",
   "pygments_lexer": "ipython3",
   "version": "3.11.8"
  }
 },
 "nbformat": 4,
 "nbformat_minor": 2
}
